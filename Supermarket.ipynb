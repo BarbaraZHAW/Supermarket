{
 "cells": [
  {
   "cell_type": "markdown",
   "id": "0919d676",
   "metadata": {},
   "source": [
    "# Computational psychrometric analysis of HVAC system in sales room for big supermarket in peak hour of customers traffic rate"
   ]
  },
  {
   "cell_type": "markdown",
   "id": "32149d8a",
   "metadata": {},
   "source": [
    "In my project the simulation model was created using Python programming language. HVAC system model was implemented using framework established by Christian Ghiaus (2014) based on psychrometric simulation model. The schematic representation of the simulation model's structure is explained in the figure below. This simulation model uses the computation of hourly steady-states, contingent upon the external weather data's ambient temperature 𝜃𝑜 and ambient relative humidity 𝜑𝑜. The inputs and parameters and parameters are explained below. An algorithm is employed to determine the necessary powers of cooling and heating to maintain the set point for sales room that is the thermal zone in my model. Secondly, the algorithm determines the latent heat that is present in the cooling- dehumidification module in the peak hour of customers load. Analisys of latent heat leads to determination of the maximum mass of water vapor that will be added to the air mass flow."
   ]
  },
  {
   "cell_type": "raw",
   "id": "fd0455f0",
   "metadata": {},
   "source": [
    "'''\n",
    "Inputs:\n",
    "θo, φo      outdoor temperature & humidity ratio\n",
    "θ3, φ3      indoor temperature & humidity ratio set points\n",
    "mi          infiltration mass flow rate\n",
    "Qsaux, Qlaux    auxiliary sensible and latent loads [kW]\n",
    "Qscab, Qlcab    heat extracted by cabinets [kW]\n",
    "\n",
    "Parameters:\n",
    "m           mass flow rate of dry air\n",
    "mo          outdoor mass flow rate as an input\n",
    "β           by-pass factor od cooling coil\n",
    "UA          overall heat transfer coefficient\n",
    "\n",
    "Elements (13 equations):\n",
    "MX1         mixing box (2 equations)\n",
    "CC          cooling coil (3 equations)\n",
    "MX2         mixing process (2 equations)\n",
    "HC          heating coil (2 equations)\n",
    "TZ          thermal zone (2 equations)\n",
    "Kθ          indoor temperature controller (1 equation)\n",
    "Kw          indoor humidity controller (1 equation)\n",
    "\n",
    "Outputs (13 unknowns):\n",
    "0, ..., 4     temperature and humidity ratio (10 unknowns)\n",
    "Qsc, Qlc      sensible and latent heat of CC (2 unknowns)\n",
    "Qsh           sensible heat of HC (1 unknown)\n",
    "\n",
    "'''"
   ]
  },
  {
   "cell_type": "raw",
   "id": "d56b79df",
   "metadata": {},
   "source": [
    "The code models an HVAC system that involves mixing, cooling with dehumidification, heating, and controlling the temperature and humidity of air in a thermal zone. The system is modeled with 13 equations to solve for 13 unknowns, and the code is implemented in Python using NumPy for linear algebra operations and a psychrometric library for handling air properties."
   ]
  },
  {
   "cell_type": "code",
   "execution_count": 3,
   "id": "1ca51c3c",
   "metadata": {
    "scrolled": true
   },
   "outputs": [
    {
     "ename": "ModuleNotFoundError",
     "evalue": "No module named 'psychro'",
     "output_type": "error",
     "traceback": [
      "\u001b[1;31m---------------------------------------------------------------------------\u001b[0m",
      "\u001b[1;31mModuleNotFoundError\u001b[0m                       Traceback (most recent call last)",
      "Input \u001b[1;32mIn [3]\u001b[0m, in \u001b[0;36m<cell line: 3>\u001b[1;34m()\u001b[0m\n\u001b[0;32m      1\u001b[0m \u001b[38;5;28;01mimport\u001b[39;00m \u001b[38;5;21;01mnumpy\u001b[39;00m \u001b[38;5;28;01mas\u001b[39;00m \u001b[38;5;21;01mnp\u001b[39;00m\n\u001b[0;32m      2\u001b[0m \u001b[38;5;28;01mimport\u001b[39;00m \u001b[38;5;21;01mpandas\u001b[39;00m \u001b[38;5;28;01mas\u001b[39;00m \u001b[38;5;21;01mpd\u001b[39;00m\n\u001b[1;32m----> 3\u001b[0m \u001b[38;5;28;01mimport\u001b[39;00m \u001b[38;5;21;01mpsychro\u001b[39;00m \u001b[38;5;28;01mas\u001b[39;00m \u001b[38;5;21;01mpsy\u001b[39;00m\n",
      "\u001b[1;31mModuleNotFoundError\u001b[0m: No module named 'psychro'"
     ]
    }
   ],
   "source": [
    "import numpy as np\n",
    "import pandas as pd\n",
    "import psychro as psy\n"
   ]
  },
  {
   "cell_type": "code",
   "execution_count": 4,
   "id": "75e5b116",
   "metadata": {},
   "outputs": [],
   "source": [
    "# constants\n",
    "c = 1e3         # J/kg K, air specific heat\n",
    "l = 2496e3      # J/kg, latent heat\n",
    "\n",
    "# to be used in self.m_ls / least_squares\n",
    "m_max = 100     # ks/s, max dry air mass flow rate\n",
    "θs_0 = 5        # °C, initial guess for saturation temperature"
   ]
  },
  {
   "cell_type": "code",
   "execution_count": 5,
   "id": "7099527a",
   "metadata": {},
   "outputs": [],
   "source": [
    "class MxCcRhTzBl:\n",
    "    \"\"\"\n",
    "    **HVAC composition**:\n",
    "        mixing, cooling with dehumidification, heating, thermal zone of the building -sales room\n",
    "        \n",
    "    \"\"\""
   ]
  },
  {
   "cell_type": "markdown",
   "id": "1d2aeb2b",
   "metadata": {},
   "source": [
    "In this section I need to define my parameters and inputs (('_init_'): Sets up the parameters and inputs): "
   ]
  },
  {
   "cell_type": "markdown",
   "id": "6ad5655b",
   "metadata": {},
   "source": [
    "Where: \n",
    "\n",
    "        - m             mass flow rate of dry air\n",
    "\n",
    "        - mo            mass flow rate of outdoor dry air\n",
    " \n",
    "        - θo, φo        outdoor temperature & relative humidity\n",
    "\n",
    "        - θ3, φ3        indoor temperature & relative humidity set points\n",
    "\n",
    "        - mi            air infiltration mass flow rate\n",
    "\n",
    "        - Qsaux, Qlaux  auxiliary sensible and latent loads\n",
    "        \n",
    "        - Qscab, Qlcab  cabinet's sensible and latent loads\n",
    "\n",
    "        - β             by-pass factor of cooling coil\n",
    "\n",
    "        - UA            overall heat transfer coefficient of the building"
   ]
  },
  {
   "cell_type": "code",
   "execution_count": 6,
   "id": "6f580974",
   "metadata": {},
   "outputs": [],
   "source": [
    "    def __init__(self, parameters, inputs):\n",
    "        m, mo, β, Kθ, Kw = parameters\n",
    "        θo, φo, θ3, w3, θIsp, φIsp, mi, UA, Qsaux, Qlaux, Qscab, Qlcab = inputs\n",
    "\n",
    "        self.design = np.array([m, mo, β, Kθ, Kw,       # parameters\n",
    "                                θo, φo, θ3, w3, θIsp, φIsp,     # inputs air out, in\n",
    "                                mi, UA, Qsaux, Qlaux, \n",
    "                                Qscab, Qlcab])      # --\"--  building\n",
    "        self.actual = np.array([m, mo, β, Kθ, Kw,\n",
    "                                θo, φo, θ3, w3, θIsp, φIsp,\n",
    "                                mi, UA, Qsaux, Qlaux, \n",
    "                                Qscab, Qlcab])\n"
   ]
  },
  {
   "cell_type": "markdown",
   "id": "51d67dff",
   "metadata": {},
   "source": [
    "The method of lin_model solves a set of 13 linear equations, linearizing the saturation curve at a given temperature. "
   ]
  },
  {
   "cell_type": "markdown",
   "id": "d79f4e9c",
   "metadata": {},
   "source": [
    "Here put the system of equation used to create A matrix. Each row of the matrix A corresponds to a different process in the HVAC system. A[0,6] - here the 0 means the 0 equation, 6 is the numbering of unknown x, here it is θ4. "
   ]
  },
  {
   "cell_type": "code",
   "execution_count": 27,
   "id": "69050d05",
   "metadata": {},
   "outputs": [],
   "source": [
    "    def lin_model(self, θs0):        \n",
    "        \"\"\"\n",
    "        Linearized model.\n",
    "            Solves a set of 13 linear equations.\n",
    "            Saturation curve is linearized in θs0.\n",
    "\n",
    "        s-point (θs, ws):\n",
    "\n",
    "        - is on a tangent to φ = 100 % in θs0;\n",
    "\n",
    "        - is **not** on the saturation curve.\n",
    "\n",
    "\n",
    "        Parameter from function call\n",
    "        ----------------------------\n",
    "        θs0     °C, temperature for which the saturation curve is liniarized\n",
    "\n",
    "        Parameters from object\n",
    "        ---------------------\n",
    "        m, mo, θo, φo, θ3, w3, θIsp, φIsp, β, mi, UA, Qsaux, Qlaux, \n",
    "        Qscab, Qlcab, Kθ, Kw = self.actual\n",
    "\n",
    "        Equations (13)\n",
    "        -------------\n",
    "        +-------------+-----+----+-----+----+----+----+----+----+\n",
    "        | Element     | MX1 | CC/DEHUM | MIX2 | HC | TZ | Kθ | Kw |\n",
    "        +=============+=====+====+=====+====+====+====+====+====+\n",
    "        | N° equations|  2  |   3     |  2   |  2  | 2 | 1  |  1 |\n",
    "        +-------------+-----+----+-----+----+----+----+----+----+\n",
    "\n",
    "        Returns (13 unknowns)\n",
    "        ---------------------\n",
    "        x : θ1, w1, θ2, w2, θ3, w3, θ4, w4, θ5, w5,\n",
    "            Qsc, Qlc, Qsh,\n",
    "        \"\"\"\n",
    "        \"\"\"\n",
    "        <=4================================m==========================\n",
    "               ||                                                   ||\n",
    "               4 (m-mo) =======0=======                             ||\n",
    "               ||       ||     β m   ||                             ||\n",
    "       θo,φo=>[MX1]==0==||          [MX2]==2==[HC]==F==3==>[TZ]==4==||\n",
    "         mo             ||           ||        /   /       //       |\n",
    "                        ===0=[CC]==1===       s   m       sl        |\n",
    "                             /\\\\   (1-β)m     |           ||        |\n",
    "                            t  sl             |          [BL]<-mi   |\n",
    "                            |                 |          //         |\n",
    "                            |                 |         sl          |\n",
    "                            |                 |                     |\n",
    "                            |                 |<------[K]-----------+<-wI\n",
    "                            |<------------------------[K]-----------+<-θI\n",
    "            \"\"\"\n",
    "       #List of parameters and inputs put into self.actual set\n",
    "        m, mo, β, Kθ, Kw, θo, φo, θ3, w3, θIsp, φIsp, mi, UA, Qsaux, Qlaux, Qscab, Qlcab = self.actual\n",
    "        wo = psy.w(θo, φo)      # hum. out\n",
    "       #Set of 13 equations \n",
    "        A = np.zeros((13, 13))  # coefficents of unknowns\n",
    "        b = np.zeros(13)        # vector of inputs\n",
    "        #MIX\n",
    "        A[0,6], A[0,0], b[0] = (m-mo) * c, -m * c, -mo * c * θo\n",
    "        A[1,7], A[1,1], b[1] = (m-mo) * l, -m * l, -mo * l * wo\n",
    "        #CC Dehumidification\n",
    "        A[2,0], A[2,10], A[2,8], b[2] = (1 - β) * m * c, -1, -(1 - β) * m * c, 0\n",
    "        A[3,1], A[3,11], A[3,9], b[3] = (1 - β) * m * l, -1, -(1 - β) * m * l, 0  \n",
    "        A[4,9], A[4,8], b[4] = 1, -psy.wsp(θs0), psy.w(θs0, 1) - psy.wsp(θs0) * θs0\n",
    "        #MIX2\n",
    "        A[5,0], A[5,8], A[5,2], b[5] = β * m * c, (1 - β) * m * c, -m * c, 0\n",
    "        A[6,1], A[6,9], A[6,3], b[6] = β * m * l, (1 - β) * m * l, -m * l, 0  \n",
    "        #Heating\n",
    "        A[7,2], A[7,12], A[7,4], b[7] = m * c, 1, -m * c, 0\n",
    "        A[8,3], A[8,5], b[8] = m * l, -m * l, 0\n",
    "        #TZ & Sales Room\n",
    "        A[9,4], A[9,6], b[9] = m * c, -(m * c + mi * c + UA), -Qscab - Qsaux - (mi * c + UA) * θo\n",
    "        A[10,5], A[10,7], b[10] = m * l, -(m * l + mi * l), -mi * l * wo - Qlcab - Qlaux\n",
    "        # #Controller \n",
    "        A[11,4], A[11, 10], b[11] = Kθ, 1, Kθ * θIsp\n",
    "        \n",
    "        A[12,5], A[12, 11], b[12] = Kw, 1, Kw * psy.w(θIsp, φIsp)\n",
    "       \n",
    "        x = np.linalg.solve(A, b)\n",
    "        return x\n",
    "    "
   ]
  },
  {
   "cell_type": "markdown",
   "id": "221654f3",
   "metadata": {},
   "source": [
    "The method solve_lin iteratively solves the linear model until the saturation point is found."
   ]
  },
  {
   "cell_type": "code",
   "execution_count": 11,
   "id": "6d999510",
   "metadata": {},
   "outputs": [],
   "source": [
    "    def solve_lin(self, θs0):\n",
    "        \"\"\"\n",
    "        Finds saturation point on saturation curve ws = f(θs).\n",
    "            Solves iterativelly *lin_model(θs0)*:\n",
    "            θs -> θs0 until ws = psy(θs, 1).\n",
    "\n",
    "        Parameters\n",
    "        ----------\n",
    "        θs0     initial guess saturation temperature\n",
    "\n",
    "        Method from object\n",
    "        ---------------------\n",
    "        *self.lin_model(θs0)*\n",
    "\n",
    "        Returns (13 unknowns)\n",
    "        ---------------------\n",
    "        x of *self.lin_model(self, θs0)*\n",
    "        \"\"\"\n",
    "        #linearization of saturation points, we want to get 100% relative humidity at point 5\n",
    "        Δ_ws = 10e-3  # kg/kg, initial difference to start the iterations\n",
    "        while Δ_ws > 0.01e-3:\n",
    "            x = self.lin_model(θs0)\n",
    "            Δ_ws = abs(psy.w(x[8], 1) - x[9])   # psy.w(θs, 1) = ws\n",
    "            θs0 = x[8]                          # actualize θs0 x[8] is theta 5\n",
    "        return x"
   ]
  },
  {
   "cell_type": "markdown",
   "id": "d4fcfa2a",
   "metadata": {},
   "source": [
    "Then the mass flow rate optimization used the method m_ls: Finds the mass flow rate of dry air that meets the specified set point for sales room humidity."
   ]
  },
  {
   "cell_type": "code",
   "execution_count": 12,
   "id": "ee5aca15",
   "metadata": {
    "scrolled": true
   },
   "outputs": [
    {
     "ename": "IndentationError",
     "evalue": "unexpected indent (1520580250.py, line 2)",
     "output_type": "error",
     "traceback": [
      "\u001b[1;36m  Input \u001b[1;32mIn [12]\u001b[1;36m\u001b[0m\n\u001b[1;33m    def m_ls(self, value, sp):\u001b[0m\n\u001b[1;37m    ^\u001b[0m\n\u001b[1;31mIndentationError\u001b[0m\u001b[1;31m:\u001b[0m unexpected indent\n"
     ]
    }
   ],
   "source": [
    "# mass flow rate optimization\n",
    "    def m_ls(self, value, sp):\n",
    "        \"\"\"\n",
    "        Mass flow rate m controls supply temperature θS or indoor humidity wI.\n",
    "            Finds m which solves value = sp, i.e. minimizes ε = value - sp.\n",
    "            Uses *scipy.optimize.least_squares* to solve the non-linear system.\n",
    "\n",
    "        Parameters\n",
    "        ----------\n",
    "        value   string: 'θS' od 'wI' type of controlled variable\n",
    "        sp      float: value of setpoint\n",
    "#decimal numbers for set point eg. 21.65\n",
    "        Calls\n",
    "        -----\n",
    "        *ε(m)*  gives (value - sp) to be minimized for m\n",
    "#calculates the residuals between the observed data and the values predicted by the model\n",
    "        Returns (13 unknowns)\n",
    "        ---------------------\n",
    "        x           given by *self.lin_model(self, θs0)*\n",
    "        \n",
    "        \"\"\"\n",
    "#least_squares function will try to find the parameters that minimize the sum of the squares of these residual                    \n",
    "        from scipy.optimize import least_squares\n",
    "\n",
    "        def ε(m):\n",
    "            \"\"\"\n",
    "            Gives difference ε = (values - sp) function of m\n",
    "                ε  calculated by self.solve_lin(ts0)\n",
    "                m   bounds=(0, m_max); m_max hard coded (global variable)\n",
    "\n",
    "            Parameters\n",
    "            ----------\n",
    "            m : mass flow rate of dry air\n",
    "\n",
    "            From object\n",
    "                Method: self.solve.lin(θs0)\n",
    "                Variables: self.actual <- m (used in self.solve.lin)\n",
    "            Returns\n",
    "            -------\n",
    "            ε = value - sp: difference between value and its set point\n",
    "            \"\"\"\n",
    "            #Set point to point 3 \n",
    "            self.actual[0] = m  #the 0 parameter from self.actual is m\n",
    "            x = self.solve_lin(θs_0)\n",
    "            if value == 'θS':\n",
    "                θS = x[4]       # supply air\n",
    "                return abs(sp - θS)\n",
    "            elif value == 'φI':\n",
    "                wI = x[5]       # indoor air humidity ratio\n",
    "                return abs(sp - wI)\n",
    "            else:\n",
    "                print('ERROR in ε(m): value not in {\"θS\", \"wI\"}')\n",
    "\n",
    "        m0 = self.actual[0]     # initial guess m0 = m\n",
    "        if value == 'φI':\n",
    "            self.actual[4] = 0  #humidity ratio to 0 \n",
    "            sp = psy.w(self.actual[7], sp) #function of set point theta 3\n",
    "        # gives m for min(θSsp - θS); θs_0 is the initial guess of θs\n",
    "        res = least_squares(ε, m0, bounds=(0, m_max)) #solves nonlinear least-squares problem\n",
    "\n",
    "        if res.cost < 0.1e-3: #cost of solution, is it good enaugh\n",
    "            m = float(res.x)  #if solution is good enaugh m is assigned\n",
    "            # print(f'm = {m: 5.3f} kg/s')\n",
    "        else:\n",
    "            print('RecAirVAV: No solution for m') #if solution doesn't fulfill quality of calculation accuracy\n",
    "\n",
    "        self.actual[0] = m\n",
    "\n",
    "        x = self.solve_lin(θs_0)\n",
    "        return x"
   ]
  },
  {
   "cell_type": "markdown",
   "id": "6a6b1e76",
   "metadata": {},
   "source": [
    "Bypass factor optimization β_ls finds the bypass factor that meets the specified set point for supply air temperature or indoor humidity."
   ]
  },
  {
   "cell_type": "code",
   "execution_count": 13,
   "id": "be07afe7",
   "metadata": {},
   "outputs": [],
   "source": [
    "    def β_ls(self, value, sp):\n",
    "        \"\"\"\n",
    "        Bypass β controls supply temperature θS or indoor humidity wI.\n",
    "            Finds β which solves value = sp, i.e. minimizes ε = value - sp.\n",
    "            Uses *scipy.optimize.least_squares* to solve the non-linear system.\n",
    "\n",
    "        Parameters\n",
    "        ----------\n",
    "        value   string: 'θS' od 'wI' type of controlled variable\n",
    "        sp      float: value of setpoint\n",
    "\n",
    "        Calls\n",
    "        -----\n",
    "        *ε(m)*  gives (value - sp) to be minimized for m\n",
    "\n",
    "        Returns (13 unknowns)\n",
    "        ---------------------\n",
    "        x           given by *self.lin_model(self, θs0)*\n",
    "        \"\"\"\n",
    "        from scipy.optimize import least_squares\n",
    "\n",
    "        def ε(β):\n",
    "            \"\"\"\n",
    "            Gives difference ε = (values - sp) function of β\n",
    "                ε  calculated by self.solve_lin(ts0)\n",
    "                β   bounds=(0, 1)\n",
    "\n",
    "            Parameters\n",
    "            ----------\n",
    "            β : by-pass factor of the cooling coil\n",
    "\n",
    "            From object\n",
    "                Method: self.solve.lin(θs0)\n",
    "                Variables: self.actual <- m (used in self.solve.lin)\n",
    "            Returns\n",
    "            -------\n",
    "            ε = value - sp: difference between value and its set point\n",
    "            \"\"\"\n",
    "            self.actual[2] = β\n",
    "            x = self.solve_lin(θs_0)\n",
    "            if value == 'θS':\n",
    "                θS = x[4]       # supply air temperature\n",
    "                return abs(sp - θS)\n",
    "            elif value == 'φI':\n",
    "                wI = x[5]       # indoor air humidity ratio\n",
    "                return abs(sp - wI)\n",
    "            else:\n",
    "                print('ERROR in ε(β): value not in {\"θS\", \"wI\"}')\n",
    "\n",
    "        β0 = self.actual[2]     # initial guess\n",
    "        β0 = 0.1\n",
    "        if value == 'φI':\n",
    "            self.actual[4] = 0\n",
    "            sp = psy.w(self.actual[7], sp)\n",
    "        # gives m for min(θSsp - θS); θs_0 is the initial guess of θs\n",
    "        res = least_squares(ε, β0, bounds=(0, 1))\n",
    "\n",
    "        if res.cost < 1e-5:\n",
    "            β = float(res.x)\n",
    "            # print(f'm = {m: 5.3f} kg/s')\n",
    "        else:\n",
    "            print('RecAirVBP: No solution for β')\n",
    "\n",
    "        self.actual[2] = β\n",
    "        x = self.solve_lin(θs_0)\n",
    "        return x"
   ]
  },
  {
   "cell_type": "markdown",
   "id": "bdf00e77",
   "metadata": {},
   "source": [
    "Here I implemented check point for saturation line: check_saturation ensures that no single point exceed the saturation curve on the psychronetric chart."
   ]
  },
  {
   "cell_type": "code",
   "execution_count": 24,
   "id": "a9e09068",
   "metadata": {},
   "outputs": [],
   "source": [
    "    def check_saturation(self, x):\n",
    "        for i in range(0, 10, 2):  # check θ1, θ2, θ3, θ4, θ5\n",
    "            θ = x[i]\n",
    "            w = x[i + 1]\n",
    "            if w > psy.w(θ, 1):\n",
    "                print(f\"Point {i//2} is beyond saturation curve.\")\n",
    "                x[i + 1] = psy.w(θ, 1)\n",
    "        return x"
   ]
  },
  {
   "cell_type": "markdown",
   "id": "2726ebe2",
   "metadata": {},
   "source": [
    "The module for Psychrometric chart display and plotting points is represented by: psy_chart. Array A represents flows between my operating points."
   ]
  },
  {
   "cell_type": "code",
   "execution_count": 25,
   "id": "d265c715",
   "metadata": {},
   "outputs": [],
   "source": [
    "    def psy_chart(self, x, θo, φo):\n",
    "        \"\"\"\n",
    "        Plot results on psychrometric chart.\n",
    "\n",
    "        Parameters\n",
    "        ----------\n",
    "        x : θ1, w1, θ2, w2, θ3, w3, θ4, w4, θ5, w5,\n",
    "            Qsc, Qlc, Qsh\n",
    "                    results of self.solve_lin or self.m_ls\n",
    "        θo, φo      outdoor point\n",
    "\n",
    "        Returns\n",
    "        -------\n",
    "        None.\n",
    "\n",
    "        \"\"\"\n",
    "        # Processes on psychrometric chart \n",
    "        wo = psy.w(θo, φo)\n",
    "        # Points: O, s, S, I\n",
    "        θ = np.append(θo, x[0:10:2])\n",
    "        w = np.append(wo, x[1:10:2])\n",
    "        # Points       0   1  2  3  4  5       Elements\n",
    "        A = np.array([[-1, 1, 0, 0, 0, 1],      # MR\n",
    "                      [0, -1, 1, 0, 0, 0],      # CC\n",
    "                      [0, 0, -1, 1, -1, 0],     # MX\n",
    "                      [0, 0, 0, -1, 1, 0],      # HC\n",
    "                      [0, 0, 0, 0, -1, 1]])     # TZ\n",
    "        psy.chartA(θ, w, A)\n",
    "\n",
    "        θ = pd.Series(θ)\n",
    "        w = 1000 * pd.Series(w)         # kg/kg -> g/kg\n",
    "        P = pd.concat([θ, w], axis=1)   # points\n",
    "        P.columns = ['θ [°C]', 'w [g/kg]']\n",
    "\n",
    "        output = P.to_string(formatters={\n",
    "            'θ [°C]': '{:,.2f}'.format,\n",
    "            'w [g/kg]': '{:,.2f}'.format})\n",
    "        print()\n",
    "        print(output)"
   ]
  },
  {
   "cell_type": "markdown",
   "id": "0103f25f",
   "metadata": {},
   "source": [
    "The following command displays the heat outputs for sensible cooling, latent cooling and sensible heating. "
   ]
  },
  {
   "cell_type": "code",
   "execution_count": 16,
   "id": "06b0d810",
   "metadata": {
    "scrolled": true
   },
   "outputs": [
    {
     "ename": "NameError",
     "evalue": "name 'x' is not defined",
     "output_type": "error",
     "traceback": [
      "\u001b[1;31m---------------------------------------------------------------------------\u001b[0m",
      "\u001b[1;31mNameError\u001b[0m                                 Traceback (most recent call last)",
      "Input \u001b[1;32mIn [16]\u001b[0m, in \u001b[0;36m<cell line: 1>\u001b[1;34m()\u001b[0m\n\u001b[1;32m----> 1\u001b[0m Q \u001b[38;5;241m=\u001b[39m pd\u001b[38;5;241m.\u001b[39mSeries(\u001b[43mx\u001b[49m[\u001b[38;5;241m10\u001b[39m:], index\u001b[38;5;241m=\u001b[39m[\u001b[38;5;124m'\u001b[39m\u001b[38;5;124mQsc\u001b[39m\u001b[38;5;124m'\u001b[39m, \u001b[38;5;124m'\u001b[39m\u001b[38;5;124mQlc\u001b[39m\u001b[38;5;124m'\u001b[39m, \u001b[38;5;124m'\u001b[39m\u001b[38;5;124mQsh\u001b[39m\u001b[38;5;124m'\u001b[39m])\n\u001b[0;32m      2\u001b[0m \u001b[38;5;66;03m# Q.columns = ['kW']\u001b[39;00m\n\u001b[0;32m      3\u001b[0m pd\u001b[38;5;241m.\u001b[39moptions\u001b[38;5;241m.\u001b[39mdisplay\u001b[38;5;241m.\u001b[39mfloat_format \u001b[38;5;241m=\u001b[39m \u001b[38;5;124m'\u001b[39m\u001b[38;5;132;01m{:,.2f}\u001b[39;00m\u001b[38;5;124m'\u001b[39m\u001b[38;5;241m.\u001b[39mformat\n",
      "\u001b[1;31mNameError\u001b[0m: name 'x' is not defined"
     ]
    }
   ],
   "source": [
    "\n",
    "        Q = pd.Series(x[10:], index=['Qsc', 'Qlc', 'Qsh'])\n",
    "        # Q.columns = ['kW']\n",
    "        pd.options.display.float_format = '{:,.2f}'.format\n",
    "        print()\n",
    "        print(Q.to_frame().T / 1000, 'kW')\n",
    "        return None"
   ]
  },
  {
   "cell_type": "markdown",
   "id": "e6dbe299",
   "metadata": {},
   "source": [
    "The external application of widget displaying inputs and parameters to attach proper setting while using method of constant air volume flow."
   ]
  },
  {
   "cell_type": "code",
   "execution_count": 18,
   "id": "1e11dabd",
   "metadata": {},
   "outputs": [
    {
     "ename": "IndentationError",
     "evalue": "unexpected indent (519020234.py, line 2)",
     "output_type": "error",
     "traceback": [
      "\u001b[1;36m  Input \u001b[1;32mIn [18]\u001b[1;36m\u001b[0m\n\u001b[1;33m    def CAV_wd(self, θo=-3.8, φo=0.7, θIsp=24, φIsp=0.55,\u001b[0m\n\u001b[1;37m    ^\u001b[0m\n\u001b[1;31mIndentationError\u001b[0m\u001b[1;31m:\u001b[0m unexpected indent\n"
     ]
    }
   ],
   "source": [
    "# Constant air volume (CAV) \n",
    "    def CAV_wd(self, θo=-3.8, φo=0.7, θIsp=24, φIsp=0.55,\n",
    "                mi=0.127, UA=675, Qsaux=6.124, Qlaux=7.44 , Qscab=-60.509, Qlcab=-39.537):\n",
    "\n"
   ]
  },
  {
   "cell_type": "markdown",
   "id": "4cca4458",
   "metadata": {},
   "source": [
    "        Constant air volume (CAV) to be used in Jupyter with widgets\n",
    "\n",
    "        Parameters: given in Jupyetr widget\n",
    "        ----------\n",
    "\n",
    "        Returns\n",
    "        -------\n",
    "        None."
   ]
  },
  {
   "cell_type": "markdown",
   "id": "791a9e58",
   "metadata": {},
   "source": [
    "Moisture calculation, moisture_to_add should find the moisture needed to be added at point 5 to achieve the target humidity ratio. In this moment the following code doesn't fulfill my expectations according to analitical calculations of extracted water vapor from sales room. "
   ]
  },
  {
   "cell_type": "code",
   "execution_count": 19,
   "id": "a940d62d",
   "metadata": {},
   "outputs": [],
   "source": [
    "    def moisture_to_add(self, θ5, w5, w5_target):\n",
    "        \"\"\"\n",
    "        Calculate the moisture to be added to the air at point 5.\n",
    "\n",
    "        Parameters\n",
    "        ----------\n",
    "        θ5 : float\n",
    "            Temperature at point 5 (°C).\n",
    "        w5 : float\n",
    "            Current humidity ratio at point 5 (kg/kg).\n",
    "        w5_target : float\n",
    "            Target humidity ratio at point 5 (kg/kg).\n",
    "\n",
    "        Returns\n",
    "        -------\n",
    "        moisture_add : float\n",
    "            Moisture to be added (kg/s).\n",
    "        \"\"\"\n",
    "        m = self.actual[0]  # mass flow rate of dry air (kg/s)\n",
    "        moisture_add = m * (w5_target - w5)\n",
    "        return moisture_add"
   ]
  },
  {
   "cell_type": "markdown",
   "id": "d46e2768",
   "metadata": {},
   "source": [
    "Here the inputs used in my simulation of winter case in January:"
   ]
  },
  {
   "cell_type": "code",
   "execution_count": 20,
   "id": "4dd2b20f",
   "metadata": {},
   "outputs": [
    {
     "ename": "NameError",
     "evalue": "name 'psy' is not defined",
     "output_type": "error",
     "traceback": [
      "\u001b[1;31m---------------------------------------------------------------------------\u001b[0m",
      "\u001b[1;31mNameError\u001b[0m                                 Traceback (most recent call last)",
      "Input \u001b[1;32mIn [20]\u001b[0m, in \u001b[0;36m<cell line: 4>\u001b[1;34m()\u001b[0m\n\u001b[0;32m      2\u001b[0m φo \u001b[38;5;241m=\u001b[39m \u001b[38;5;241m0.7\u001b[39m\n\u001b[0;32m      3\u001b[0m θ3 \u001b[38;5;241m=\u001b[39m \u001b[38;5;241m24.0\u001b[39m\n\u001b[1;32m----> 4\u001b[0m w3 \u001b[38;5;241m=\u001b[39m \u001b[43mpsy\u001b[49m\u001b[38;5;241m.\u001b[39mw(θ3, \u001b[38;5;241m0.55\u001b[39m)\n\u001b[0;32m      5\u001b[0m φIsp \u001b[38;5;241m=\u001b[39m \u001b[38;5;241m0.55\u001b[39m\n\u001b[0;32m      6\u001b[0m θIsp \u001b[38;5;241m=\u001b[39m \u001b[38;5;241m24.0\u001b[39m\n",
      "\u001b[1;31mNameError\u001b[0m: name 'psy' is not defined"
     ]
    }
   ],
   "source": [
    "θo = -3.8\n",
    "φo = 0.7\n",
    "θ3 = 24.0\n",
    "w3 = psy.w(θ3, 0.55)\n",
    "φIsp = 0.55\n",
    "θIsp = 24.0\n",
    "mi = 0.127\n",
    "UA = 675\n",
    "Qsaux = 6.124\n",
    "Qlaux = 7.44\n",
    "Qscab = -60.509\n",
    "Qlcab = -39.537\n",
    "m = 1.601  #initially 1 kg/s\n",
    "mo = m * 0.1\n",
    "β = 0.7        #initial 0.7\n",
    "Kθ = 1e9\n",
    "Kw = 1e9"
   ]
  },
  {
   "cell_type": "code",
   "execution_count": 21,
   "id": "74899c17",
   "metadata": {
    "scrolled": true
   },
   "outputs": [
    {
     "ename": "NameError",
     "evalue": "name 'w3' is not defined",
     "output_type": "error",
     "traceback": [
      "\u001b[1;31m---------------------------------------------------------------------------\u001b[0m",
      "\u001b[1;31mNameError\u001b[0m                                 Traceback (most recent call last)",
      "Input \u001b[1;32mIn [21]\u001b[0m, in \u001b[0;36m<cell line: 1>\u001b[1;34m()\u001b[0m\n\u001b[1;32m----> 1\u001b[0m inputs \u001b[38;5;241m=\u001b[39m θo, φo, θ3, \u001b[43mw3\u001b[49m, θIsp, φIsp, mi, UA, Qsaux, Qlaux, Qscab, Qlcab\n\u001b[0;32m      2\u001b[0m parameters \u001b[38;5;241m=\u001b[39m m, mo, β, Kθ, Kw\n",
      "\u001b[1;31mNameError\u001b[0m: name 'w3' is not defined"
     ]
    }
   ],
   "source": [
    "inputs = θo, φo, θ3, w3, θIsp, φIsp, mi, UA, Qsaux, Qlaux, Qscab, Qlcab\n",
    "parameters = m, mo, β, Kθ, Kw"
   ]
  },
  {
   "cell_type": "markdown",
   "id": "986f90bb",
   "metadata": {},
   "source": [
    "The following commands will display t array as set of temperatures, wv array as a set of humidity ratios."
   ]
  },
  {
   "cell_type": "code",
   "execution_count": 22,
   "id": "56b12941",
   "metadata": {},
   "outputs": [
    {
     "ename": "NameError",
     "evalue": "name 'parameters' is not defined",
     "output_type": "error",
     "traceback": [
      "\u001b[1;31m---------------------------------------------------------------------------\u001b[0m",
      "\u001b[1;31mNameError\u001b[0m                                 Traceback (most recent call last)",
      "Input \u001b[1;32mIn [22]\u001b[0m, in \u001b[0;36m<cell line: 1>\u001b[1;34m()\u001b[0m\n\u001b[1;32m----> 1\u001b[0m model \u001b[38;5;241m=\u001b[39m MxCcRhTzBl(\u001b[43mparameters\u001b[49m, inputs)\n\u001b[0;32m      2\u001b[0m x \u001b[38;5;241m=\u001b[39m model\u001b[38;5;241m.\u001b[39msolve_lin(θIsp)\n\u001b[0;32m      3\u001b[0m t \u001b[38;5;241m=\u001b[39m np\u001b[38;5;241m.\u001b[39marray([θo, x[\u001b[38;5;241m0\u001b[39m], x[\u001b[38;5;241m2\u001b[39m], x[\u001b[38;5;241m4\u001b[39m], x[\u001b[38;5;241m6\u001b[39m], x[\u001b[38;5;241m8\u001b[39m]])\n",
      "\u001b[1;31mNameError\u001b[0m: name 'parameters' is not defined"
     ]
    }
   ],
   "source": [
    "model = MxCcRhTzBl(parameters, inputs)\n",
    "x = model.solve_lin(θIsp)\n",
    "t = np.array([θo, x[0], x[2], x[4], x[6], x[8]])\n",
    "wv = np.array([psy.w(θo, φo), x[1], x[3], x[5], x[7], x[9]])"
   ]
  },
  {
   "cell_type": "markdown",
   "id": "cda60d9d",
   "metadata": {},
   "source": [
    "The matrix A defines the connections between the points on a psychrometric chart. The matrix, along with the arrays t  and wv, is used to plot the HVAC processes on the psychrometric chart using the psy.chartA function."
   ]
  },
  {
   "cell_type": "code",
   "execution_count": null,
   "id": "61f7fe7d",
   "metadata": {},
   "outputs": [],
   "source": [
    "A = np.zeros([5, len(t)])\n",
    "A[0, 0], A[0, 1], A[0, 4] = 1, -1, 1\n",
    "A[1, 1], A[1, 5] = 1, -1\n",
    "A[2, 1], A[2, 5], A[2, 2] = 1, 1, -1\n",
    "A[3, 2], A[3, 3] = 1, -1\n",
    "A[4, 3], A[4, 4] = 1, -1\n",
    "psy.chartA(t, wv, A)\n"
   ]
  },
  {
   "cell_type": "markdown",
   "id": "78f93397",
   "metadata": {},
   "source": [
    "The moisture mass flow rate to be added in the point 5 should be optimal according to psychrometric plot. The moisture_to_add method calculates the amount of moisture to be added based on the mass flow rate of dry air and the difference between the current and target humidity ratios at point 5. However, according to analitical calculations, the output values are too low. "
   ]
  },
  {
   "cell_type": "code",
   "execution_count": 26,
   "id": "b0124ace",
   "metadata": {
    "scrolled": true
   },
   "outputs": [
    {
     "ename": "NameError",
     "evalue": "name 'psy' is not defined",
     "output_type": "error",
     "traceback": [
      "\u001b[1;31m---------------------------------------------------------------------------\u001b[0m",
      "\u001b[1;31mNameError\u001b[0m                                 Traceback (most recent call last)",
      "Input \u001b[1;32mIn [26]\u001b[0m, in \u001b[0;36m<cell line: 2>\u001b[1;34m()\u001b[0m\n\u001b[0;32m      1\u001b[0m \u001b[38;5;66;03m# Calculate the moisture to be added at point 5\u001b[39;00m\n\u001b[1;32m----> 2\u001b[0m w5_target \u001b[38;5;241m=\u001b[39m \u001b[43mpsy\u001b[49m\u001b[38;5;241m.\u001b[39mw(θIsp, φIsp)\n\u001b[0;32m      3\u001b[0m moisture_add \u001b[38;5;241m=\u001b[39m model\u001b[38;5;241m.\u001b[39mmoisture_to_add(x[\u001b[38;5;241m8\u001b[39m], x[\u001b[38;5;241m9\u001b[39m], w5_target)\n\u001b[0;32m      4\u001b[0m \u001b[38;5;28mprint\u001b[39m(\u001b[38;5;124mf\u001b[39m\u001b[38;5;124m\"\u001b[39m\u001b[38;5;124mMoisture to be added at point 5: \u001b[39m\u001b[38;5;132;01m{\u001b[39;00mmoisture_add\u001b[38;5;132;01m:\u001b[39;00m\u001b[38;5;124m.4f\u001b[39m\u001b[38;5;132;01m}\u001b[39;00m\u001b[38;5;124m kg/s\u001b[39m\u001b[38;5;124m\"\u001b[39m)\n",
      "\u001b[1;31mNameError\u001b[0m: name 'psy' is not defined"
     ]
    }
   ],
   "source": [
    "# Calculate the moisture to be added at point 5\n",
    "w5_target = psy.w(θIsp, φIsp)\n",
    "moisture_add = model.moisture_to_add(x[8], x[9], w5_target)\n",
    "print(f\"Moisture to be added at point 5: {moisture_add:.4f} kg/s\")"
   ]
  },
  {
   "cell_type": "code",
   "execution_count": null,
   "id": "6b8068be",
   "metadata": {},
   "outputs": [],
   "source": []
  },
  {
   "cell_type": "code",
   "execution_count": null,
   "id": "a256dc2f",
   "metadata": {},
   "outputs": [],
   "source": []
  }
 ],
 "metadata": {
  "kernelspec": {
   "display_name": "Python 3 (ipykernel)",
   "language": "python",
   "name": "python3"
  },
  "language_info": {
   "codemirror_mode": {
    "name": "ipython",
    "version": 3
   },
   "file_extension": ".py",
   "mimetype": "text/x-python",
   "name": "python",
   "nbconvert_exporter": "python",
   "pygments_lexer": "ipython3",
   "version": "3.9.12"
  }
 },
 "nbformat": 4,
 "nbformat_minor": 5
}
